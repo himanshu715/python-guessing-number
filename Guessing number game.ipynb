{
 "cells": [
  {
   "cell_type": "code",
   "execution_count": 7,
   "id": "71a952e4",
   "metadata": {},
   "outputs": [
    {
     "name": "stdout",
     "output_type": "stream",
     "text": [
      "enter lower = 25\n",
      "enter upper = 65\n",
      "\n",
      "\t there are  5 chances to guess the answer\n",
      "enter number= 45\n",
      "too high guess\n",
      "enter number= 35\n",
      "too high guess\n",
      "enter number= 30\n",
      "too high guess\n",
      "enter number= 28\n",
      "congo you guess the number in  4 try\n"
     ]
    }
   ],
   "source": [
    "import random\n",
    "import math\n",
    "\n",
    "lower = int(input(\"enter lower = \"))\n",
    "upper = int(input(\"enter upper = \"))\n",
    "\n",
    "x = random.randint(lower,upper)\n",
    "\n",
    "print(\"\\n\\t there are \", round(math.log(upper-lower+1,2)) ,\"chances to guess the answer\")\n",
    "\n",
    "count=0\n",
    "\n",
    "while count < math.log(upper-lower+1,2):\n",
    "    count += 1\n",
    "    \n",
    "    guess=int(input(\"enter number= \"))\n",
    "    \n",
    "    if x==guess:\n",
    "        print(\"congo you guess the number in \", count ,\"try\")\n",
    "        break\n",
    "    elif(x>guess):\n",
    "        print(\"too low guess\")\n",
    "    elif(x<guess):\n",
    "        print(\"too high guess\")\n",
    "\n",
    "if count > math.log(upper-lower+1,2):\n",
    "    print(\"\\n The number is %d\"%x)\n",
    "    print(\"\\t Better luck next time\")"
   ]
  }
 ],
 "metadata": {
  "kernelspec": {
   "display_name": "Python 3",
   "language": "python",
   "name": "python3"
  },
  "language_info": {
   "codemirror_mode": {
    "name": "ipython",
    "version": 3
   },
   "file_extension": ".py",
   "mimetype": "text/x-python",
   "name": "python",
   "nbconvert_exporter": "python",
   "pygments_lexer": "ipython3",
   "version": "3.8.8"
  }
 },
 "nbformat": 4,
 "nbformat_minor": 5
}
